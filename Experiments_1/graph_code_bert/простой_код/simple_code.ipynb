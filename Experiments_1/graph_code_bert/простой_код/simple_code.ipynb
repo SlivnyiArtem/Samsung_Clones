{
 "cells": [
  {
   "cell_type": "code",
   "execution_count": 88,
   "metadata": {},
   "outputs": [
    {
     "data": {
      "text/plain": [
       "device(type='cuda')"
      ]
     },
     "execution_count": 88,
     "metadata": {},
     "output_type": "execute_result"
    }
   ],
   "source": [
    "import torch\n",
    "import torch.nn as nn\n",
    "\n",
    "device = torch.device(\"cuda\") if torch.cuda.is_available() else torch.device(\"cpu\")\n",
    "device"
   ]
  },
  {
   "cell_type": "code",
   "execution_count": 89,
   "metadata": {},
   "outputs": [],
   "source": [
    "import subprocess\n",
    "from transformers import AutoModel, pipeline, Trainer, AutoTokenizer\n",
    "import json\n",
    "from datasets import Dataset, load_dataset, concatenate_datasets\n",
    "import evaluate\n",
    "import numpy as np\n",
    "from sklearn.metrics import pairwise_distances\n",
    "from sklearn.linear_model import Perceptron\n",
    "from sklearn.metrics import accuracy_score\n",
    "from sklearn.metrics import f1_score\n",
    "import pandas as pd\n",
    "from sklearn.model_selection import train_test_split\n",
    "from imblearn.under_sampling import RandomUnderSampler\n",
    "import pandas as pd\n",
    "import matplotlib.pyplot as plt\n",
    "from sklearn.linear_model import Perceptron\n",
    "from sklearn.datasets import load_iris\n",
    "from sklearn.model_selection import train_test_split\n",
    "from sklearn.preprocessing import StandardScaler\n",
    "from sklearn.pipeline import make_pipeline\n",
    "from sklearn.metrics import classification_report"
   ]
  },
  {
   "cell_type": "code",
   "execution_count": 90,
   "metadata": {},
   "outputs": [
    {
     "name": "stderr",
     "output_type": "stream",
     "text": [
      "Some weights of RobertaModel were not initialized from the model checkpoint at microsoft/graphcodebert-base and are newly initialized: ['roberta.pooler.dense.bias', 'roberta.pooler.dense.weight']\n",
      "You should probably TRAIN this model on a down-stream task to be able to use it for predictions and inference.\n"
     ]
    }
   ],
   "source": [
    "tokenizer = AutoTokenizer.from_pretrained(\"microsoft/graphcodebert-base\")\n",
    "model = AutoModel.from_pretrained(\"microsoft/graphcodebert-base\")"
   ]
  },
  {
   "cell_type": "code",
   "execution_count": 91,
   "metadata": {},
   "outputs": [],
   "source": [
    "sampling_strategy = 1.0\n",
    "rsmpl = RandomUnderSampler(sampling_strategy=sampling_strategy)"
   ]
  },
  {
   "cell_type": "code",
   "execution_count": 12,
   "metadata": {},
   "outputs": [
    {
     "ename": "FileNotFoundError",
     "evalue": "Could not find module 'c:\\GitHub\\PRPR\\Experiments\\simple_code\\build\\my-languages.so' (or one of its dependencies). Try using the full path with constructor syntax.",
     "output_type": "error",
     "traceback": [
      "\u001b[1;31m---------------------------------------------------------------------------\u001b[0m",
      "\u001b[1;31mFileNotFoundError\u001b[0m                         Traceback (most recent call last)",
      "Cell \u001b[1;32mIn[12], line 4\u001b[0m\n\u001b[0;32m      1\u001b[0m \u001b[38;5;28;01mfrom\u001b[39;00m \u001b[38;5;21;01mtree_sitter\u001b[39;00m \u001b[38;5;28;01mimport\u001b[39;00m Language, Parser\n\u001b[1;32m----> 4\u001b[0m CPP_LANGUAGE \u001b[38;5;241m=\u001b[39m \u001b[43mLanguage\u001b[49m\u001b[43m(\u001b[49m\u001b[38;5;124;43m'\u001b[39;49m\u001b[38;5;124;43mbuild/my-languages.so\u001b[39;49m\u001b[38;5;124;43m'\u001b[39;49m\u001b[43m,\u001b[49m\u001b[43m \u001b[49m\u001b[38;5;124;43m'\u001b[39;49m\u001b[38;5;124;43mcpp\u001b[39;49m\u001b[38;5;124;43m'\u001b[39;49m\u001b[43m)\u001b[49m\n\u001b[0;32m      6\u001b[0m parser \u001b[38;5;241m=\u001b[39m Parser()\n\u001b[0;32m      7\u001b[0m parser\u001b[38;5;241m.\u001b[39mset_language(CPP_LANGUAGE)\n",
      "File \u001b[1;32mc:\\GitHub\\PRPR\\.venv\\lib\\site-packages\\tree_sitter\\__init__.py:132\u001b[0m, in \u001b[0;36mLanguage.__init__\u001b[1;34m(self, path_or_ptr, name)\u001b[0m\n\u001b[0;32m    130\u001b[0m _deprecate(\u001b[38;5;124m\"\u001b[39m\u001b[38;5;124mLanguage(path, name)\u001b[39m\u001b[38;5;124m\"\u001b[39m, \u001b[38;5;124m\"\u001b[39m\u001b[38;5;124mLanguage(ptr, name)\u001b[39m\u001b[38;5;124m\"\u001b[39m)\n\u001b[0;32m    131\u001b[0m \u001b[38;5;28mself\u001b[39m\u001b[38;5;241m.\u001b[39mname \u001b[38;5;241m=\u001b[39m name\n\u001b[1;32m--> 132\u001b[0m \u001b[38;5;28mself\u001b[39m\u001b[38;5;241m.\u001b[39mlib \u001b[38;5;241m=\u001b[39m \u001b[43mcdll\u001b[49m\u001b[38;5;241;43m.\u001b[39;49m\u001b[43mLoadLibrary\u001b[49m\u001b[43m(\u001b[49m\u001b[43mfspath\u001b[49m\u001b[43m(\u001b[49m\u001b[43mpath_or_ptr\u001b[49m\u001b[43m)\u001b[49m\u001b[43m)\u001b[49m\n\u001b[0;32m    133\u001b[0m language_function \u001b[38;5;241m=\u001b[39m \u001b[38;5;28mgetattr\u001b[39m(\u001b[38;5;28mself\u001b[39m\u001b[38;5;241m.\u001b[39mlib, \u001b[38;5;124m\"\u001b[39m\u001b[38;5;124mtree_sitter_\u001b[39m\u001b[38;5;132;01m%s\u001b[39;00m\u001b[38;5;124m\"\u001b[39m \u001b[38;5;241m%\u001b[39m name)\n\u001b[0;32m    134\u001b[0m language_function\u001b[38;5;241m.\u001b[39mrestype \u001b[38;5;241m=\u001b[39m c_void_p\n",
      "File \u001b[1;32m~\\AppData\\Local\\Programs\\Python\\Python310\\lib\\ctypes\\__init__.py:452\u001b[0m, in \u001b[0;36mLibraryLoader.LoadLibrary\u001b[1;34m(self, name)\u001b[0m\n\u001b[0;32m    451\u001b[0m \u001b[38;5;28;01mdef\u001b[39;00m \u001b[38;5;21mLoadLibrary\u001b[39m(\u001b[38;5;28mself\u001b[39m, name):\n\u001b[1;32m--> 452\u001b[0m     \u001b[38;5;28;01mreturn\u001b[39;00m \u001b[38;5;28;43mself\u001b[39;49m\u001b[38;5;241;43m.\u001b[39;49m\u001b[43m_dlltype\u001b[49m\u001b[43m(\u001b[49m\u001b[43mname\u001b[49m\u001b[43m)\u001b[49m\n",
      "File \u001b[1;32m~\\AppData\\Local\\Programs\\Python\\Python310\\lib\\ctypes\\__init__.py:374\u001b[0m, in \u001b[0;36mCDLL.__init__\u001b[1;34m(self, name, mode, handle, use_errno, use_last_error, winmode)\u001b[0m\n\u001b[0;32m    371\u001b[0m \u001b[38;5;28mself\u001b[39m\u001b[38;5;241m.\u001b[39m_FuncPtr \u001b[38;5;241m=\u001b[39m _FuncPtr\n\u001b[0;32m    373\u001b[0m \u001b[38;5;28;01mif\u001b[39;00m handle \u001b[38;5;129;01mis\u001b[39;00m \u001b[38;5;28;01mNone\u001b[39;00m:\n\u001b[1;32m--> 374\u001b[0m     \u001b[38;5;28mself\u001b[39m\u001b[38;5;241m.\u001b[39m_handle \u001b[38;5;241m=\u001b[39m \u001b[43m_dlopen\u001b[49m\u001b[43m(\u001b[49m\u001b[38;5;28;43mself\u001b[39;49m\u001b[38;5;241;43m.\u001b[39;49m\u001b[43m_name\u001b[49m\u001b[43m,\u001b[49m\u001b[43m \u001b[49m\u001b[43mmode\u001b[49m\u001b[43m)\u001b[49m\n\u001b[0;32m    375\u001b[0m \u001b[38;5;28;01melse\u001b[39;00m:\n\u001b[0;32m    376\u001b[0m     \u001b[38;5;28mself\u001b[39m\u001b[38;5;241m.\u001b[39m_handle \u001b[38;5;241m=\u001b[39m handle\n",
      "\u001b[1;31mFileNotFoundError\u001b[0m: Could not find module 'c:\\GitHub\\PRPR\\Experiments\\simple_code\\build\\my-languages.so' (or one of its dependencies). Try using the full path with constructor syntax."
     ]
    }
   ],
   "source": [
    "\n",
    "from tree_sitter import Language, Parser\n",
    "\n",
    "\n",
    "CPP_LANGUAGE = Language('build/my-languages.so', 'cpp')\n",
    "\n",
    "parser = Parser()\n",
    "parser.set_language(CPP_LANGUAGE)"
   ]
  },
  {
   "cell_type": "code",
   "execution_count": 92,
   "metadata": {},
   "outputs": [],
   "source": [
    "def get_index_code_dict(emb_ds):\n",
    "    res_dict = {}\n",
    "    \n",
    "    for el in emb_ds:\n",
    "        res_dict[el[\"index\"]] = el[\"embedding\"]\n",
    "        \n",
    "    return res_dict\n",
    "    "
   ]
  },
  {
   "cell_type": "code",
   "execution_count": 93,
   "metadata": {},
   "outputs": [],
   "source": [
    "#эмбеддинги для батча\n",
    "def get_embeddings(inputs, model):\n",
    "    with torch.no_grad():\n",
    "        embeddings = model(**inputs).last_hidden_state.mean(dim=1)\n",
    "    return embeddings"
   ]
  },
  {
   "cell_type": "code",
   "execution_count": 94,
   "metadata": {},
   "outputs": [],
   "source": [
    "def get_pairs_ds(emb_ds):\n",
    "    id = 0\n",
    "    print(len(emb_ds))\n",
    "    id_1 = []\n",
    "    id_2 = []\n",
    "    is_same = []\n",
    "    same_class = []\n",
    "    for i in range(len(emb_ds)-1):\n",
    "        id += 1\n",
    "        if id % 100 == 0 or id == 10:\n",
    "            print(id)\n",
    "        for j in range(i+1, len(emb_ds)):\n",
    "            id_1.append(i)\n",
    "            id_2.append(j)\n",
    "            are_same = emb_ds[i][\"label\"] == emb_ds[j][\"label\"]\n",
    "            is_same.append(int(are_same))\n",
    "            if are_same:\n",
    "                same_class.append(emb_ds[i][\"label\"])\n",
    "            else:\n",
    "                same_class.append(-100)\n",
    "\n",
    "    dataset = Dataset.from_dict({ \"id_1\":id_1,\"id_2\": id_2,\n",
    "                                    \"is_same\": is_same, \"same_class\": same_class})\n",
    "    return dataset"
   ]
  },
  {
   "cell_type": "code",
   "execution_count": 95,
   "metadata": {},
   "outputs": [],
   "source": [
    "        \n",
    "def get_similarities_ds(emb_ds, resampled_ds):\n",
    "    X = []\n",
    "    y = []\n",
    "    for el in resampled_ds:\n",
    "        conc_tensor = torch.cat([\n",
    "            torch.Tensor(emb_ds[el[\"id_1\"]][\"embeddings\"]),\n",
    "            torch.Tensor(emb_ds[el[\"id_2\"]][\"embeddings\"]),\n",
    "            torch.Tensor(pairwise_distances(emb_ds[el[\"id_1\"]][\"embeddings\"],emb_ds[el[\"id_2\"]][\"embeddings\"],\n",
    "                                                   metric='cosine'))\n",
    "        ], dim=1)\n",
    "        X.append(conc_tensor.view(-1))\n",
    "        y.append(el[\"is_same\"])\n",
    "    X_train, X_t, y_train, y_t = train_test_split(X, y, test_size=0.3, stratify=y, random_state=42)\n",
    "    \n",
    "    X_eval, X_test, y_eval, y_test = train_test_split(X_t, y_t, test_size=0.7, random_state=42)\n",
    "    return X_train, X_eval, X_test, y_train, y_eval, y_test\n",
    "        "
   ]
  },
  {
   "cell_type": "code",
   "execution_count": 96,
   "metadata": {},
   "outputs": [],
   "source": [
    "def get_accuracy(emb_dataset):\n",
    "    index_1 = []\n",
    "    index_2 = []\n",
    "    code_1 = []\n",
    "    code_2 = []\n",
    "    is_clones = []\n",
    "    similarities = []\n",
    "    for i in range(len(emb_dataset) - 1):\n",
    "        i_label = emb_dataset[i][\"label\"]\n",
    "        i_embeddings = torch.Tensor(emb_dataset[i][\"embedding\"][0]).reshape([1, -1])\n",
    "        \n",
    "        if i % 10 == 0:\n",
    "            print(i)\n",
    "            \n",
    "        for j in range(i+1, len(emb_dataset)):\n",
    "            j_label = emb_dataset[j][\"label\"]\n",
    "            j_embeddings = torch.Tensor(emb_dataset[j][\"embedding\"][0]).reshape([1, -1])\n",
    "            \n",
    "            similarity = pairwise_distances(i_embeddings,j_embeddings,\n",
    "                                                   metric='manhattan')\n",
    "            \n",
    "            index_1.append(emb_dataset[i][\"index\"])\n",
    "            index_2.append(emb_dataset[j][\"index\"])\n",
    "            code_1.append(emb_dataset[i][\"res_code\"])\n",
    "            code_2.append(emb_dataset[j][\"res_code\"])\n",
    "            is_clones.append(int(emb_dataset[i][\"label\"] == emb_dataset[j][\"label\"]))\n",
    "            similarities.append(similarity)\n",
    "            \n",
    "    acc_dataset = Dataset.from_dict({ \"index_1\":index_1,\"index_2\": index_2, \"is_clones\": is_clones,\n",
    "                                \"similarities\": similarities})\n",
    "    return acc_dataset\n",
    "    "
   ]
  },
  {
   "cell_type": "code",
   "execution_count": 97,
   "metadata": {},
   "outputs": [],
   "source": [
    "\n",
    "\n",
    "def get_tokenized_dataset_orig(datafile, model):\n",
    "    index = []\n",
    "    label = []\n",
    "    code = []\n",
    "    code_1 = []\n",
    "    code_2 = []\n",
    "    bin_labels = []\n",
    "\n",
    "    input_ids_1 = []\n",
    "    input_ids_2 = []\n",
    "    att_mask_1 = []\n",
    "    att_mask_2 = []\n",
    "    embeddings = []\n",
    "\n",
    "\n",
    "    cnt = 0\n",
    "    \n",
    "    with open(datafile) as file:\n",
    "            for line in file.readlines():\n",
    "                \n",
    "                cnt += 1   \n",
    "                if cnt%100==0:\n",
    "                    print(cnt)\n",
    "                \n",
    "                json_line = json.loads(line)\n",
    "                index.append(int(json_line[\"index\"]))\n",
    "                label.append(int(json_line[\"label\"]) - 1)\n",
    "                clear_code = json_line[\"code\"].replace(\"\\r\", \"\").replace(\"\\n\",\"\").replace(\"\\t\",\"\")\n",
    "                \n",
    "                code.append(clear_code)\n",
    "                embeddings.append(get_embeddings(tokenizer(clear_code, max_length = 512, truncation=True, pad_to_max_length=True,  return_tensors='pt'), model))\n",
    "                \n",
    "    dataset = Dataset.from_dict({ \"res_code\":code,\"index\": index, \n",
    "                                 \"embeddings\": embeddings,\n",
    "                                \"label\": label})\n",
    "    return dataset"
   ]
  },
  {
   "cell_type": "code",
   "execution_count": null,
   "metadata": {},
   "outputs": [],
   "source": [
    "orig_code = get_tokenized_dataset_orig(\"rsm_test.jsonl\", model)\n",
    "orig_code.to_json(\"orig_code.jsonl\")"
   ]
  },
  {
   "cell_type": "code",
   "execution_count": 99,
   "metadata": {},
   "outputs": [
    {
     "data": {
      "text/plain": [
       "Dataset({\n",
       "    features: ['res_code', 'index', 'embeddings', 'label'],\n",
       "    num_rows: 1200\n",
       "})"
      ]
     },
     "execution_count": 99,
     "metadata": {},
     "output_type": "execute_result"
    }
   ],
   "source": [
    "orig_code = load_dataset(\"json\", data_files = \"orig_code.jsonl\")[\"train\"]\n",
    "orig_code"
   ]
  },
  {
   "cell_type": "code",
   "execution_count": 55,
   "metadata": {},
   "outputs": [
    {
     "name": "stdout",
     "output_type": "stream",
     "text": [
      "1200\n",
      "10\n",
      "100\n",
      "200\n",
      "300\n",
      "400\n",
      "500\n",
      "600\n",
      "700\n",
      "800\n",
      "900\n",
      "1000\n",
      "1100\n"
     ]
    },
    {
     "data": {
      "text/plain": [
       "Dataset({\n",
       "    features: ['id_1', 'id_2', 'is_same', 'same_class'],\n",
       "    num_rows: 719400\n",
       "})"
      ]
     },
     "execution_count": 55,
     "metadata": {},
     "output_type": "execute_result"
    }
   ],
   "source": [
    "orig_code_pairs = get_pairs_ds(orig_code)\n",
    "orig_code_pairs"
   ]
  },
  {
   "cell_type": "code",
   "execution_count": 56,
   "metadata": {},
   "outputs": [
    {
     "name": "stderr",
     "output_type": "stream",
     "text": [
      "Creating json from Arrow format: 100%|██████████| 720/720 [00:00<00:00, 786.41ba/s]\n"
     ]
    },
    {
     "data": {
      "text/plain": [
       "38846610"
      ]
     },
     "execution_count": 56,
     "metadata": {},
     "output_type": "execute_result"
    }
   ],
   "source": [
    "orig_code_pairs.to_json(\"orig_code_pairs_1.jsonl\")"
   ]
  },
  {
   "cell_type": "code",
   "execution_count": 13,
   "metadata": {},
   "outputs": [
    {
     "name": "stderr",
     "output_type": "stream",
     "text": [
      "Generating train split: 118800 examples [00:00, 2239364.86 examples/s]\n"
     ]
    },
    {
     "data": {
      "text/plain": [
       "Dataset({\n",
       "    features: ['id_1', 'id_2', 'same_class', '__index_level_0__', 'is_same'],\n",
       "    num_rows: 118800\n",
       "})"
      ]
     },
     "execution_count": 13,
     "metadata": {},
     "output_type": "execute_result"
    }
   ],
   "source": [
    "orig_code_pairs = load_dataset(\"json\", data_files=\"orig_code_pairs_1.jsonl\")[\"train\"]\n",
    "orig_code_pairs"
   ]
  },
  {
   "cell_type": "code",
   "execution_count": 58,
   "metadata": {},
   "outputs": [],
   "source": [
    "X = pd.DataFrame({\"id_1\": orig_code_pairs[\"id_1\"], \"id_2\": orig_code_pairs[\"id_2\"], \"same_class\": orig_code_pairs[\"same_class\"]})\n",
    "\n",
    "y = orig_code_pairs[\"is_same\"]\n",
    "\n",
    "X_resampled, y_resampled = rsmpl.fit_resample(X, y)\n",
    "\n",
    "orig_code_pairs = Dataset.from_pandas(X_resampled)\n",
    "\n",
    "if \"is_same\" in orig_code_pairs:\n",
    "    orig_code_pairs[\"is_same\"] = y_resampled\n",
    "else:\n",
    "    orig_code_pairs = orig_code_pairs.add_column(\"is_same\", y_resampled)\n"
   ]
  },
  {
   "cell_type": "code",
   "execution_count": 59,
   "metadata": {},
   "outputs": [
    {
     "name": "stderr",
     "output_type": "stream",
     "text": [
      "Creating json from Arrow format: 100%|██████████| 119/119 [00:00<00:00, 592.06ba/s]\n"
     ]
    },
    {
     "data": {
      "text/plain": [
       "9516275"
      ]
     },
     "execution_count": 59,
     "metadata": {},
     "output_type": "execute_result"
    }
   ],
   "source": [
    "orig_code_pairs.to_json(\"orig_code_pairs_1.jsonl\")"
   ]
  },
  {
   "cell_type": "code",
   "execution_count": 100,
   "metadata": {},
   "outputs": [
    {
     "data": {
      "text/plain": [
       "Dataset({\n",
       "    features: ['res_code', 'index', 'embeddings', 'label'],\n",
       "    num_rows: 1200\n",
       "})"
      ]
     },
     "execution_count": 100,
     "metadata": {},
     "output_type": "execute_result"
    }
   ],
   "source": [
    "\n",
    "orig_code = load_dataset(\"json\", data_files=\"orig_code.jsonl\")[\"train\"]\n",
    "orig_code"
   ]
  },
  {
   "cell_type": "code",
   "execution_count": 101,
   "metadata": {},
   "outputs": [
    {
     "data": {
      "text/plain": [
       "Dataset({\n",
       "    features: ['id_1', 'id_2', 'same_class', '__index_level_0__', 'is_same'],\n",
       "    num_rows: 118800\n",
       "})"
      ]
     },
     "execution_count": 101,
     "metadata": {},
     "output_type": "execute_result"
    }
   ],
   "source": [
    "\n",
    "orig_code_pairs = load_dataset(\"json\", data_files=\"orig_code_pairs_1.jsonl\")[\"train\"]\n",
    "orig_code_pairs"
   ]
  },
  {
   "cell_type": "code",
   "execution_count": 103,
   "metadata": {},
   "outputs": [
    {
     "name": "stdout",
     "output_type": "stream",
     "text": [
      "True\n",
      "118800\n",
      "59400\n"
     ]
    }
   ],
   "source": [
    "print(len(orig_code_pairs.filter(lambda el: el[\"is_same\"] == 1)) ==  len(orig_code_pairs.filter(lambda el: el[\"is_same\"] == 0)))\n",
    "print(len(orig_code_pairs))\n",
    "print(len(orig_code_pairs.filter(lambda el: el[\"is_same\"] == 1)))"
   ]
  },
  {
   "cell_type": "code",
   "execution_count": 104,
   "metadata": {},
   "outputs": [],
   "source": [
    "X_train, X_eval, X_test, y_train, y_eval, y_test = get_similarities_ds(orig_code, orig_code_pairs)"
   ]
  },
  {
   "cell_type": "code",
   "execution_count": 105,
   "metadata": {},
   "outputs": [
    {
     "name": "stdout",
     "output_type": "stream",
     "text": [
      "83160\n",
      "83160\n",
      "10692\n",
      "10692\n",
      "24948\n",
      "24948\n"
     ]
    }
   ],
   "source": [
    "print(len(X_train))\n",
    "print(len(y_train))\n",
    "print(len(X_eval))\n",
    "print(len(y_eval))\n",
    "print(len(X_test))\n",
    "print(len(y_test))\n"
   ]
  },
  {
   "cell_type": "code",
   "execution_count": 106,
   "metadata": {},
   "outputs": [
    {
     "data": {
      "text/plain": [
       "True"
      ]
     },
     "execution_count": 106,
     "metadata": {},
     "output_type": "execute_result"
    }
   ],
   "source": [
    "len(list(filter(lambda el: el == 0, y_train))) == len(list(filter(lambda el: el ==1, y_train)))"
   ]
  },
  {
   "cell_type": "code",
   "execution_count": 108,
   "metadata": {},
   "outputs": [
    {
     "name": "stdout",
     "output_type": "stream",
     "text": [
      "Epoch: 1 Validation Accuracy: 0.6626449682005238\n",
      "Epoch: 2 Validation Accuracy: 0.8027497194163861\n",
      "Epoch: 3 Validation Accuracy: 0.8106995884773662\n",
      "Epoch: 4 Validation Accuracy: 0.7777777777777778\n",
      "Epoch: 5 Validation Accuracy: 0.7942386831275721\n",
      "Epoch: 6 Validation Accuracy: 0.8018144407033296\n",
      "Epoch: 7 Validation Accuracy: 0.796109240553685\n",
      "Early stopping triggered at epoch 7\n"
     ]
    },
    {
     "data": {
      "image/png": "[encoded data removed]",
      "text/plain": [
       "<Figure size 1200x600 with 1 Axes>"
      ]
     },
     "metadata": {},
     "output_type": "display_data"
    },
    {
     "name": "stdout",
     "output_type": "stream",
     "text": [
      "Accuracy: 0.8000641333974667\n",
      "f1_score: 0.7980403271519961\n",
      "простой_код\n"
     ]
    },
    {
     "name": "stderr",
     "output_type": "stream",
     "text": [
      "Creating json from Arrow format: 100%|██████████| 25/25 [00:00<00:00, 461.90ba/s]\n"
     ]
    },
    {
     "data": {
      "image/png": "[encoded data removed]",
      "text/plain": [
       "<Figure size 640x480 with 2 Axes>"
      ]
     },
     "metadata": {},
     "output_type": "display_data"
    }
   ],
   "source": [
    "#классификационная голова с логированием\n",
    "\n",
    "perceptron = Perceptron(tol=None, max_iter=1)\n",
    "\n",
    "best_accuracy = 0\n",
    "tol = 0.01\n",
    "no_improvement = 0\n",
    "max_no_improvement = 5\n",
    "\n",
    "train_acc = []\n",
    "val_acc = []\n",
    "\n",
    "for epoch in range(1000):\n",
    "    perceptron.partial_fit(X_train, y_train, classes=np.unique(y_train))\n",
    "    \n",
    "    y_pred_eval = perceptron.predict(X_eval)\n",
    "    accuracy_eval = accuracy_score(y_eval, y_pred_eval)\n",
    "    \n",
    "    y_pred_train = perceptron.predict(X_train)\n",
    "    accuracy_train = accuracy_score(y_train, y_pred_train)\n",
    "    \n",
    "    if accuracy_eval > best_accuracy + tol:\n",
    "        best_accuracy = accuracy_eval\n",
    "        no_improvement = 0\n",
    "    else:\n",
    "        no_improvement += 1\n",
    "        \n",
    "    train_acc.append(accuracy_train)\n",
    "    val_acc.append(accuracy_eval)\n",
    "    \n",
    "    print('Epoch:', epoch+1, 'Validation Accuracy:', accuracy_eval)\n",
    "    \n",
    "    if no_improvement >= max_no_improvement:\n",
    "        print('Early stopping triggered at epoch', epoch+1)\n",
    "        break\n",
    "    \n",
    "    \n",
    "title = \"простой_код\"\n",
    "    \n",
    "plt.figure(figsize=(12, 6))\n",
    "plt.plot(train_acc, label='Training Accuracy')\n",
    "plt.plot(val_acc, label='Validation Accuracy')\n",
    "plt.xlabel('Epochs')\n",
    "plt.ylabel('Accuracy')\n",
    "plt.title('Simple code Training Progress')\n",
    "plt.legend()\n",
    "plt.savefig('acc_график'+title+'prj.jpg')\n",
    "plt.show()\n",
    "    \n",
    "\n",
    "\n",
    "y_pred = perceptron.predict(X_test)\n",
    "\n",
    "\n",
    "accuracy = accuracy_score(y_test, y_pred)\n",
    "print('Accuracy:', accuracy)\n",
    "f1 = f1_score(y_test, y_pred)\n",
    "print('f1_score:', f1)\n",
    "\n",
    "from sklearn.metrics import ConfusionMatrixDisplay, confusion_matrix, ConfusionMatrixDisplay\n",
    "import matplotlib.pyplot as plt\n",
    "labels = [0, 1]\n",
    "cm = confusion_matrix(y_test, y_pred, labels=labels)\n",
    "cm_display = ConfusionMatrixDisplay(cm).plot()\n",
    "\n",
    "print(title)\n",
    "Dataset.from_dict({\"orig\":y_test, \"prediction\": y_pred}).to_json(\"простой_код_prediction.json\")\n",
    "plt.savefig('confusion_matrix_'+title+'prj.jpg')"
   ]
  },
  {
   "cell_type": "code",
   "execution_count": 19,
   "metadata": {},
   "outputs": [
    {
     "name": "stdout",
     "output_type": "stream",
     "text": [
      "Accuracy: 0.7990460157126824\n",
      "f1_score: 0.8261650485436893\n",
      "simple_code_EStop\n"
     ]
    },
    {
     "name": "stderr",
     "output_type": "stream",
     "text": [
      "Creating json from Arrow format: 100%|██████████| 36/36 [00:00<00:00, 571.44ba/s]\n"
     ]
    },
    {
     "data": {
      "image/png": "[encoded data removed]",
      "text/plain": [
       "<Figure size 640x480 with 2 Axes>"
      ]
     },
     "metadata": {},
     "output_type": "display_data"
    }
   ],
   "source": [
    "# классификационная голова без логирования с предостановкой\n",
    "\n",
    "perceptron = Perceptron(early_stopping=True, tol=5, max_iter=1000)\n",
    "perceptron.fit(X_train, y_train)\n",
    "\n",
    "y_pred = perceptron.predict(X_test)\n",
    "\n",
    "\n",
    "accuracy = accuracy_score(y_test, y_pred)\n",
    "print('Accuracy:', accuracy)\n",
    "f1 = f1_score(y_test, y_pred)\n",
    "print('f1_score:', f1)\n",
    "\n",
    "from sklearn.metrics import ConfusionMatrixDisplay, confusion_matrix, ConfusionMatrixDisplay\n",
    "import matplotlib.pyplot as plt\n",
    "labels = [0, 1]\n",
    "cm = confusion_matrix(y_test, y_pred, labels=labels)\n",
    "cm_display = ConfusionMatrixDisplay(cm).plot()\n",
    "title = \"simple_code_EStop\"\n",
    "print(title)\n",
    "Dataset.from_dict({\"orig\":y_test, \"prediction\": y_pred}).to_json(\"simple_code_EStop_predicitons_2.json\")\n",
    "plt.savefig('confusion_matrix_'+title+'_2.jpg')\n"
   ]
  },
  {
   "cell_type": "code",
   "execution_count": 110,
   "metadata": {},
   "outputs": [
    {
     "name": "stdout",
     "output_type": "stream",
     "text": [
      "                     precision    recall  f1-score   support\n",
      "\n",
      "не являются клонами       0.79      0.81      0.80     12449\n",
      "   являются клонами       0.81      0.79      0.80     12499\n",
      "\n",
      "           accuracy                           0.80     24948\n",
      "          macro avg       0.80      0.80      0.80     24948\n",
      "       weighted avg       0.80      0.80      0.80     24948\n",
      "\n"
     ]
    }
   ],
   "source": [
    "print(classification_report(y_test, y_pred, target_names=[\"не являются клонами\", \"являются клонами\"]))"
   ]
  }
 ],
 "metadata": {
  "kernelspec": {
   "display_name": "Python 3",
   "language": "python",
   "name": "python3"
  },
  "language_info": {
   "codemirror_mode": {
    "name": "ipython",
    "version": 3
   },
   "file_extension": ".py",
   "mimetype": "text/x-python",
   "name": "python",
   "nbconvert_exporter": "python",
   "pygments_lexer": "ipython3",
   "version": "3.10.0"
  }
 },
 "nbformat": 4,
 "nbformat_minor": 2
}
