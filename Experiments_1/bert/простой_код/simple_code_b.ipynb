{
 "cells": [
  {
   "cell_type": "code",
   "execution_count": 1,
   "metadata": {},
   "outputs": [
    {
     "data": {
      "text/plain": [
       "device(type='cuda')"
      ]
     },
     "execution_count": 1,
     "metadata": {},
     "output_type": "execute_result"
    }
   ],
   "source": [
    "import torch\n",
    "import torch.nn as nn\n",
    "\n",
    "device = torch.device(\"cuda\") if torch.cuda.is_available() else torch.device(\"cpu\")\n",
    "device"
   ]
  },
  {
   "cell_type": "code",
   "execution_count": 2,
   "metadata": {},
   "outputs": [
    {
     "name": "stderr",
     "output_type": "stream",
     "text": [
      "c:\\GitHub\\PRPR\\.venv\\lib\\site-packages\\tqdm\\auto.py:21: TqdmWarning: IProgress not found. Please update jupyter and ipywidgets. See https://ipywidgets.readthedocs.io/en/stable/user_install.html\n",
      "  from .autonotebook import tqdm as notebook_tqdm\n"
     ]
    }
   ],
   "source": [
    "import subprocess\n",
    "from transformers import AutoModel, pipeline, Trainer, AutoTokenizer\n",
    "import json\n",
    "from datasets import Dataset, load_dataset, concatenate_datasets\n",
    "import evaluate\n",
    "import numpy as np\n",
    "from sklearn.metrics import pairwise_distances\n",
    "from sklearn.linear_model import Perceptron\n",
    "from sklearn.metrics import accuracy_score\n",
    "from sklearn.metrics import f1_score\n",
    "import pandas as pd\n",
    "from sklearn.model_selection import train_test_split\n",
    "from imblearn.under_sampling import RandomUnderSampler\n",
    "import pandas as pd\n",
    "import matplotlib.pyplot as plt\n",
    "from sklearn.linear_model import Perceptron\n",
    "from sklearn.datasets import load_iris\n",
    "from sklearn.model_selection import train_test_split\n",
    "from sklearn.preprocessing import StandardScaler\n",
    "from sklearn.pipeline import make_pipeline\n",
    "from sklearn.metrics import classification_report"
   ]
  },
  {
   "cell_type": "code",
   "execution_count": 3,
   "metadata": {},
   "outputs": [],
   "source": [
    "tokenizer = AutoTokenizer.from_pretrained(\"bert-base-uncased\")\n",
    "model = AutoModel.from_pretrained(\"bert-base-uncased\")"
   ]
  },
  {
   "cell_type": "code",
   "execution_count": 4,
   "metadata": {},
   "outputs": [],
   "source": [
    "sampling_strategy = 1.0\n",
    "rsmpl = RandomUnderSampler(sampling_strategy=sampling_strategy)"
   ]
  },
  {
   "cell_type": "code",
   "execution_count": null,
   "metadata": {},
   "outputs": [],
   "source": [
    "\n",
    "from tree_sitter import Language, Parser\n",
    "\n",
    "\n",
    "CPP_LANGUAGE = Language('build/my-languages.so', 'cpp')\n",
    "\n",
    "parser = Parser()\n",
    "parser.set_language(CPP_LANGUAGE)"
   ]
  },
  {
   "cell_type": "code",
   "execution_count": 5,
   "metadata": {},
   "outputs": [],
   "source": [
    "def get_index_code_dict(emb_ds):\n",
    "    res_dict = {}\n",
    "    \n",
    "    for el in emb_ds:\n",
    "        res_dict[el[\"index\"]] = el[\"embedding\"]\n",
    "        \n",
    "    return res_dict\n",
    "    "
   ]
  },
  {
   "cell_type": "code",
   "execution_count": 6,
   "metadata": {},
   "outputs": [],
   "source": [
    "#эмбеддинги для батча\n",
    "def get_embeddings(inputs, model):\n",
    "    with torch.no_grad():\n",
    "        embeddings = model(**inputs).last_hidden_state.mean(dim=1)\n",
    "    return embeddings"
   ]
  },
  {
   "cell_type": "code",
   "execution_count": 7,
   "metadata": {},
   "outputs": [],
   "source": [
    "def get_pairs_ds(emb_ds):\n",
    "    id = 0\n",
    "    print(len(emb_ds))\n",
    "    id_1 = []\n",
    "    id_2 = []\n",
    "    is_same = []\n",
    "    same_class = []\n",
    "    for i in range(len(emb_ds)-1):\n",
    "        id += 1\n",
    "        if id % 100 == 0 or id == 10:\n",
    "            print(id)\n",
    "        for j in range(i+1, len(emb_ds)):\n",
    "            id_1.append(i)\n",
    "            id_2.append(j)\n",
    "            are_same = emb_ds[i][\"label\"] == emb_ds[j][\"label\"]\n",
    "            is_same.append(int(are_same))\n",
    "            if are_same:\n",
    "                same_class.append(emb_ds[i][\"label\"])\n",
    "            else:\n",
    "                same_class.append(-100)\n",
    "\n",
    "    dataset = Dataset.from_dict({ \"id_1\":id_1,\"id_2\": id_2,\n",
    "                                    \"is_same\": is_same, \"same_class\": same_class})\n",
    "    return dataset"
   ]
  },
  {
   "cell_type": "code",
   "execution_count": 15,
   "metadata": {},
   "outputs": [],
   "source": [
    "        \n",
    "def get_similarities_ds(emb_ds, resampled_ds):\n",
    "    X = []\n",
    "    y = []\n",
    "    for el in resampled_ds:\n",
    "        conc_tensor = torch.cat([\n",
    "            torch.Tensor(emb_ds[el[\"id_1\"]][\"embeddings\"]),\n",
    "            torch.Tensor(emb_ds[el[\"id_2\"]][\"embeddings\"]),\n",
    "            torch.Tensor(pairwise_distances(emb_ds[el[\"id_1\"]][\"embeddings\"],emb_ds[el[\"id_2\"]][\"embeddings\"],\n",
    "                                                   metric='cosine'))\n",
    "        ], dim=1)\n",
    "        X.append(conc_tensor.view(-1))\n",
    "        y.append(el[\"is_same\"])\n",
    "    X_train, X_t, y_train, y_t = train_test_split(X, y, test_size=0.3, stratify=y, random_state=49)\n",
    "    \n",
    "    X_eval, X_test, y_eval, y_test = train_test_split(X_t, y_t, test_size=0.7, random_state=64)\n",
    "    return X_train, X_eval, X_test, y_train, y_eval, y_test\n",
    "        "
   ]
  },
  {
   "cell_type": "code",
   "execution_count": 9,
   "metadata": {},
   "outputs": [],
   "source": [
    "def get_accuracy(emb_dataset):\n",
    "    index_1 = []\n",
    "    index_2 = []\n",
    "    code_1 = []\n",
    "    code_2 = []\n",
    "    is_clones = []\n",
    "    similarities = []\n",
    "    for i in range(len(emb_dataset) - 1):\n",
    "        i_label = emb_dataset[i][\"label\"]\n",
    "        i_embeddings = torch.Tensor(emb_dataset[i][\"embedding\"][0]).reshape([1, -1])\n",
    "        \n",
    "        if i % 10 == 0:\n",
    "            print(i)\n",
    "            \n",
    "        for j in range(i+1, len(emb_dataset)):\n",
    "            j_label = emb_dataset[j][\"label\"]\n",
    "            j_embeddings = torch.Tensor(emb_dataset[j][\"embedding\"][0]).reshape([1, -1])\n",
    "            \n",
    "            similarity = pairwise_distances(i_embeddings,j_embeddings,\n",
    "                                                   metric='manhattan')\n",
    "            \n",
    "            index_1.append(emb_dataset[i][\"index\"])\n",
    "            index_2.append(emb_dataset[j][\"index\"])\n",
    "            code_1.append(emb_dataset[i][\"res_code\"])\n",
    "            code_2.append(emb_dataset[j][\"res_code\"])\n",
    "            is_clones.append(int(emb_dataset[i][\"label\"] == emb_dataset[j][\"label\"]))\n",
    "            similarities.append(similarity)\n",
    "            \n",
    "    acc_dataset = Dataset.from_dict({ \"index_1\":index_1,\"index_2\": index_2, \"is_clones\": is_clones,\n",
    "                                \"similarities\": similarities})\n",
    "    return acc_dataset\n",
    "    "
   ]
  },
  {
   "cell_type": "code",
   "execution_count": 10,
   "metadata": {},
   "outputs": [],
   "source": [
    "\n",
    "\n",
    "def get_tokenized_dataset_orig(datafile, model):\n",
    "    index = []\n",
    "    label = []\n",
    "    code = []\n",
    "    code_1 = []\n",
    "    code_2 = []\n",
    "    bin_labels = []\n",
    "\n",
    "    input_ids_1 = []\n",
    "    input_ids_2 = []\n",
    "    att_mask_1 = []\n",
    "    att_mask_2 = []\n",
    "    embeddings = []\n",
    "\n",
    "\n",
    "    cnt = 0\n",
    "    \n",
    "    with open(datafile) as file:\n",
    "            for line in file.readlines():\n",
    "                \n",
    "                cnt += 1   \n",
    "                if cnt%100==0:\n",
    "                    print(cnt)\n",
    "                \n",
    "                json_line = json.loads(line)\n",
    "                index.append(int(json_line[\"index\"]))\n",
    "                label.append(int(json_line[\"label\"]) - 1)\n",
    "                clear_code = json_line[\"code\"].replace(\"\\r\", \"\").replace(\"\\n\",\"\").replace(\"\\t\",\"\")\n",
    "                \n",
    "                code.append(clear_code)\n",
    "                embeddings.append(get_embeddings(tokenizer(clear_code, max_length = 512, truncation=True, pad_to_max_length=True,  return_tensors='pt'), model))\n",
    "                \n",
    "    dataset = Dataset.from_dict({ \"res_code\":code,\"index\": index, \n",
    "                                 \"embeddings\": embeddings,\n",
    "                                \"label\": label})\n",
    "    return dataset"
   ]
  },
  {
   "cell_type": "code",
   "execution_count": 16,
   "metadata": {},
   "outputs": [
    {
     "name": "stderr",
     "output_type": "stream",
     "text": [
      "c:\\GitHub\\PRPR\\.venv\\lib\\site-packages\\transformers\\tokenization_utils_base.py:2674: FutureWarning: The `pad_to_max_length` argument is deprecated and will be removed in a future version, use `padding=True` or `padding='longest'` to pad to the longest sequence in the batch, or use `padding='max_length'` to pad to a max length. In this case, you can give a specific length with `max_length` (e.g. `max_length=45`) or leave max_length to None to pad to the maximal input size of the model (e.g. 512 for Bert).\n",
      "  warnings.warn(\n"
     ]
    },
    {
     "name": "stdout",
     "output_type": "stream",
     "text": [
      "100\n",
      "200\n",
      "300\n",
      "400\n",
      "500\n",
      "600\n",
      "700\n",
      "800\n",
      "900\n",
      "1000\n",
      "1100\n",
      "1200\n"
     ]
    },
    {
     "name": "stderr",
     "output_type": "stream",
     "text": [
      "Creating json from Arrow format: 100%|██████████| 2/2 [00:00<00:00, 10.87ba/s]\n"
     ]
    },
    {
     "data": {
      "text/plain": [
       "12985424"
      ]
     },
     "execution_count": 16,
     "metadata": {},
     "output_type": "execute_result"
    }
   ],
   "source": [
    "orig_code = get_tokenized_dataset_orig(\"rsm_test.jsonl\", model)\n",
    "orig_code.to_json(\"orig_code.jsonl\")"
   ]
  },
  {
   "cell_type": "code",
   "execution_count": 17,
   "metadata": {},
   "outputs": [
    {
     "name": "stderr",
     "output_type": "stream",
     "text": [
      "Generating train split: 1200 examples [00:00, 19672.17 examples/s]\n"
     ]
    },
    {
     "data": {
      "text/plain": [
       "Dataset({\n",
       "    features: ['res_code', 'index', 'embeddings', 'label'],\n",
       "    num_rows: 1200\n",
       "})"
      ]
     },
     "execution_count": 17,
     "metadata": {},
     "output_type": "execute_result"
    }
   ],
   "source": [
    "orig_code = load_dataset(\"json\", data_files = \"orig_code.jsonl\")[\"train\"]\n",
    "orig_code"
   ]
  },
  {
   "cell_type": "code",
   "execution_count": 18,
   "metadata": {},
   "outputs": [
    {
     "name": "stdout",
     "output_type": "stream",
     "text": [
      "1200\n",
      "10\n",
      "100\n",
      "200\n",
      "300\n",
      "400\n",
      "500\n",
      "600\n",
      "700\n",
      "800\n",
      "900\n",
      "1000\n",
      "1100\n"
     ]
    },
    {
     "data": {
      "text/plain": [
       "Dataset({\n",
       "    features: ['id_1', 'id_2', 'is_same', 'same_class'],\n",
       "    num_rows: 719400\n",
       "})"
      ]
     },
     "execution_count": 18,
     "metadata": {},
     "output_type": "execute_result"
    }
   ],
   "source": [
    "orig_code_pairs = get_pairs_ds(orig_code)\n",
    "orig_code_pairs"
   ]
  },
  {
   "cell_type": "code",
   "execution_count": 19,
   "metadata": {},
   "outputs": [
    {
     "name": "stderr",
     "output_type": "stream",
     "text": [
      "Creating json from Arrow format: 100%|██████████| 720/720 [00:00<00:00, 794.49ba/s]\n"
     ]
    },
    {
     "data": {
      "text/plain": [
       "38846610"
      ]
     },
     "execution_count": 19,
     "metadata": {},
     "output_type": "execute_result"
    }
   ],
   "source": [
    "orig_code_pairs.to_json(\"orig_code_pairs.jsonl\")"
   ]
  },
  {
   "cell_type": "code",
   "execution_count": 20,
   "metadata": {},
   "outputs": [
    {
     "name": "stderr",
     "output_type": "stream",
     "text": [
      "Generating train split: 719400 examples [00:00, 3100449.54 examples/s]\n"
     ]
    },
    {
     "data": {
      "text/plain": [
       "Dataset({\n",
       "    features: ['id_1', 'id_2', 'is_same', 'same_class'],\n",
       "    num_rows: 719400\n",
       "})"
      ]
     },
     "execution_count": 20,
     "metadata": {},
     "output_type": "execute_result"
    }
   ],
   "source": [
    "orig_code_pairs = load_dataset(\"json\", data_files=\"orig_code_pairs.jsonl\")[\"train\"]\n",
    "orig_code_pairs"
   ]
  },
  {
   "cell_type": "code",
   "execution_count": 21,
   "metadata": {},
   "outputs": [
    {
     "name": "stderr",
     "output_type": "stream",
     "text": [
      "Creating json from Arrow format: 100%|██████████| 119/119 [00:00<00:00, 632.98ba/s]\n"
     ]
    },
    {
     "data": {
      "text/plain": [
       "9516375"
      ]
     },
     "execution_count": 21,
     "metadata": {},
     "output_type": "execute_result"
    }
   ],
   "source": [
    "X = pd.DataFrame({\"id_1\": orig_code_pairs[\"id_1\"], \"id_2\": orig_code_pairs[\"id_2\"], \"same_class\": orig_code_pairs[\"same_class\"]})\n",
    "\n",
    "y = orig_code_pairs[\"is_same\"]\n",
    "\n",
    "X_resampled, y_resampled = rsmpl.fit_resample(X, y)\n",
    "\n",
    "orig_code_pairs = Dataset.from_pandas(X_resampled)\n",
    "\n",
    "# if \"is_same\" in orig_code_pairs:\n",
    "#     orig_code_pairs[\"is_same\"] = y_resampled\n",
    "# else:\n",
    "#     orig_code_pairs = orig_code_pairs.add_column(\"is_same\", y_resampled)\n",
    "\n",
    "orig_code_pairs = orig_code_pairs.add_column(\"is_same\", y_resampled)\n",
    "\n",
    "orig_code_pairs.to_json(\"orig_code_pairs.jsonl\")\n",
    "\n"
   ]
  },
  {
   "cell_type": "code",
   "execution_count": 22,
   "metadata": {},
   "outputs": [
    {
     "data": {
      "text/plain": [
       "Dataset({\n",
       "    features: ['id_1', 'id_2', 'same_class', '__index_level_0__', 'is_same'],\n",
       "    num_rows: 118800\n",
       "})"
      ]
     },
     "execution_count": 22,
     "metadata": {},
     "output_type": "execute_result"
    }
   ],
   "source": [
    "orig_code_pairs"
   ]
  },
  {
   "cell_type": "code",
   "execution_count": 23,
   "metadata": {},
   "outputs": [
    {
     "data": {
      "text/plain": [
       "Dataset({\n",
       "    features: ['res_code', 'index', 'embeddings', 'label'],\n",
       "    num_rows: 1200\n",
       "})"
      ]
     },
     "execution_count": 23,
     "metadata": {},
     "output_type": "execute_result"
    }
   ],
   "source": [
    "\n",
    "orig_code = load_dataset(\"json\", data_files=\"orig_code.jsonl\")[\"train\"]\n",
    "orig_code"
   ]
  },
  {
   "cell_type": "code",
   "execution_count": 24,
   "metadata": {},
   "outputs": [
    {
     "name": "stderr",
     "output_type": "stream",
     "text": [
      "Generating train split: 118800 examples [00:00, 2474994.98 examples/s]\n"
     ]
    },
    {
     "data": {
      "text/plain": [
       "Dataset({\n",
       "    features: ['id_1', 'id_2', 'same_class', '__index_level_0__', 'is_same'],\n",
       "    num_rows: 118800\n",
       "})"
      ]
     },
     "execution_count": 24,
     "metadata": {},
     "output_type": "execute_result"
    }
   ],
   "source": [
    "\n",
    "orig_code_pairs = load_dataset(\"json\", data_files=\"orig_code_pairs.jsonl\")[\"train\"]\n",
    "orig_code_pairs"
   ]
  },
  {
   "cell_type": "code",
   "execution_count": 25,
   "metadata": {},
   "outputs": [
    {
     "name": "stderr",
     "output_type": "stream",
     "text": [
      "Filter: 100%|██████████| 118800/118800 [00:00<00:00, 248003.57 examples/s]\n",
      "Filter: 100%|██████████| 118800/118800 [00:00<00:00, 252426.99 examples/s]"
     ]
    },
    {
     "name": "stdout",
     "output_type": "stream",
     "text": [
      "True\n",
      "118800\n",
      "59400\n"
     ]
    },
    {
     "name": "stderr",
     "output_type": "stream",
     "text": [
      "\n"
     ]
    }
   ],
   "source": [
    "print(len(orig_code_pairs.filter(lambda el: el[\"is_same\"] == 1)) ==  len(orig_code_pairs.filter(lambda el: el[\"is_same\"] == 0)))\n",
    "print(len(orig_code_pairs))\n",
    "print(len(orig_code_pairs.filter(lambda el: el[\"is_same\"] == 1)))"
   ]
  },
  {
   "cell_type": "code",
   "execution_count": 26,
   "metadata": {},
   "outputs": [],
   "source": [
    "X_train, X_eval, X_test, y_train, y_eval, y_test = get_similarities_ds(orig_code, orig_code_pairs)"
   ]
  },
  {
   "cell_type": "code",
   "execution_count": 27,
   "metadata": {},
   "outputs": [
    {
     "name": "stdout",
     "output_type": "stream",
     "text": [
      "83160\n",
      "83160\n",
      "10692\n",
      "10692\n",
      "24948\n",
      "24948\n"
     ]
    }
   ],
   "source": [
    "print(len(X_train))\n",
    "print(len(y_train))\n",
    "print(len(X_eval))\n",
    "print(len(y_eval))\n",
    "print(len(X_test))\n",
    "print(len(y_test))\n"
   ]
  },
  {
   "cell_type": "code",
   "execution_count": 28,
   "metadata": {},
   "outputs": [
    {
     "data": {
      "text/plain": [
       "True"
      ]
     },
     "execution_count": 28,
     "metadata": {},
     "output_type": "execute_result"
    }
   ],
   "source": [
    "len(list(filter(lambda el: el == 0, y_train))) == len(list(filter(lambda el: el ==1, y_train)))"
   ]
  },
  {
   "cell_type": "code",
   "execution_count": 30,
   "metadata": {},
   "outputs": [
    {
     "name": "stdout",
     "output_type": "stream",
     "text": [
      "Epoch: 1 Validation Accuracy: 0.602880658436214\n",
      "Epoch: 2 Validation Accuracy: 0.6954732510288066\n",
      "Epoch: 3 Validation Accuracy: 0.7042648709315376\n",
      "Epoch: 4 Validation Accuracy: 0.7937710437710438\n",
      "Epoch: 5 Validation Accuracy: 0.7630939019827909\n",
      "Epoch: 6 Validation Accuracy: 0.7315750093527871\n",
      "Epoch: 7 Validation Accuracy: 0.7585110362888141\n",
      "Epoch: 8 Validation Accuracy: 0.806490834268612\n",
      "Epoch: 9 Validation Accuracy: 0.6087729143284699\n",
      "Epoch: 10 Validation Accuracy: 0.8133183688739244\n",
      "Epoch: 11 Validation Accuracy: 0.7808641975308642\n",
      "Epoch: 12 Validation Accuracy: 0.6901421623643846\n",
      "Epoch: 13 Validation Accuracy: 0.7702020202020202\n",
      "Early stopping triggered at epoch 13\n"
     ]
    },
    {
     "data": {
      "image/png": "[encoded data removed]",
      "text/plain": [
       "<Figure size 1200x600 with 1 Axes>"
      ]
     },
     "metadata": {},
     "output_type": "display_data"
    },
    {
     "name": "stdout",
     "output_type": "stream",
     "text": [
      "Accuracy: 0.7805435305435305\n",
      "f1_score: 0.7252471521051839\n",
      "простой_код\n"
     ]
    },
    {
     "name": "stderr",
     "output_type": "stream",
     "text": [
      "Creating json from Arrow format: 100%|██████████| 25/25 [00:00<00:00, 925.93ba/s]\n"
     ]
    },
    {
     "data": {
      "image/png": "[encoded data removed]",
      "text/plain": [
       "<Figure size 640x480 with 2 Axes>"
      ]
     },
     "metadata": {},
     "output_type": "display_data"
    }
   ],
   "source": [
    "#классификационная голова с логированием\n",
    "\n",
    "perceptron = Perceptron(tol=None, max_iter=1)\n",
    "\n",
    "best_accuracy = 0\n",
    "tol = 0.01\n",
    "no_improvement = 0\n",
    "max_no_improvement = 5\n",
    "\n",
    "train_acc = []\n",
    "val_acc = []\n",
    "\n",
    "for epoch in range(1000):\n",
    "    perceptron.partial_fit(X_train, y_train, classes=np.unique(y_train))\n",
    "    \n",
    "    y_pred_eval = perceptron.predict(X_eval)\n",
    "    accuracy_eval = accuracy_score(y_eval, y_pred_eval)\n",
    "    \n",
    "    y_pred_train = perceptron.predict(X_train)\n",
    "    accuracy_train = accuracy_score(y_train, y_pred_train)\n",
    "    \n",
    "    if accuracy_eval > best_accuracy + tol:\n",
    "        best_accuracy = accuracy_eval\n",
    "        no_improvement = 0\n",
    "    else:\n",
    "        no_improvement += 1\n",
    "        \n",
    "    train_acc.append(accuracy_train)\n",
    "    val_acc.append(accuracy_eval)\n",
    "    \n",
    "    print('Epoch:', epoch+1, 'Validation Accuracy:', accuracy_eval)\n",
    "    \n",
    "    if no_improvement >= max_no_improvement:\n",
    "        print('Early stopping triggered at epoch', epoch+1)\n",
    "        break\n",
    "    \n",
    "    \n",
    "title = \"простой_код\"\n",
    "    \n",
    "plt.figure(figsize=(12, 6))\n",
    "plt.plot(train_acc, label='Training Accuracy')\n",
    "plt.plot(val_acc, label='Validation Accuracy')\n",
    "plt.xlabel('Epochs')\n",
    "plt.ylabel('Accuracy')\n",
    "plt.title('Simple code Training Progress')\n",
    "plt.legend()\n",
    "plt.savefig('acc_график'+title+'prj.jpg')\n",
    "plt.show()\n",
    "    \n",
    "\n",
    "\n",
    "y_pred = perceptron.predict(X_test)\n",
    "\n",
    "\n",
    "accuracy = accuracy_score(y_test, y_pred)\n",
    "print('Accuracy:', accuracy)\n",
    "f1 = f1_score(y_test, y_pred)\n",
    "print('f1_score:', f1)\n",
    "\n",
    "from sklearn.metrics import ConfusionMatrixDisplay, confusion_matrix, ConfusionMatrixDisplay\n",
    "import matplotlib.pyplot as plt\n",
    "labels = [0, 1]\n",
    "cm = confusion_matrix(y_test, y_pred, labels=labels)\n",
    "cm_display = ConfusionMatrixDisplay(cm).plot()\n",
    "\n",
    "print(title)\n",
    "Dataset.from_dict({\"orig\":y_test, \"prediction\": y_pred}).to_json(\"простой_код_prediction.json\")\n",
    "plt.savefig('confusion_matrix_'+title+'prj.jpg')"
   ]
  },
  {
   "cell_type": "code",
   "execution_count": 29,
   "metadata": {},
   "outputs": [
    {
     "name": "stdout",
     "output_type": "stream",
     "text": [
      "Accuracy: 0.8286435786435786\n",
      "f1_score: 0.8035476310831303\n",
      "simple_code_EStop\n"
     ]
    },
    {
     "name": "stderr",
     "output_type": "stream",
     "text": [
      "Creating json from Arrow format: 100%|██████████| 25/25 [00:00<00:00, 892.89ba/s]\n"
     ]
    },
    {
     "data": {
      "image/png": "[encoded data removed]",
      "text/plain": [
       "<Figure size 640x480 with 2 Axes>"
      ]
     },
     "metadata": {},
     "output_type": "display_data"
    }
   ],
   "source": [
    "# классификационная голова без логирования с предостановкой\n",
    "\n",
    "perceptron = Perceptron(early_stopping=True, tol=5, max_iter=1000)\n",
    "perceptron.fit(X_train, y_train)\n",
    "\n",
    "y_pred = perceptron.predict(X_test)\n",
    "\n",
    "accuracy = accuracy_score(y_test, y_pred)\n",
    "print('Accuracy:', accuracy)\n",
    "f1 = f1_score(y_test, y_pred)\n",
    "print('f1_score:', f1)\n",
    "\n",
    "from sklearn.metrics import ConfusionMatrixDisplay, confusion_matrix, ConfusionMatrixDisplay\n",
    "import matplotlib.pyplot as plt\n",
    "labels = [0, 1]\n",
    "cm = confusion_matrix(y_test, y_pred, labels=labels)\n",
    "cm_display = ConfusionMatrixDisplay(cm).plot()\n",
    "title = \"simple_code_EStop\"\n",
    "print(title)\n",
    "Dataset.from_dict({\"orig\":y_test, \"prediction\": y_pred}).to_json(\"simple_code_EStop_predicitons_2.json\")\n",
    "plt.savefig('confusion_matrix_'+title+'_2.jpg')\n"
   ]
  },
  {
   "cell_type": "code",
   "execution_count": 31,
   "metadata": {},
   "outputs": [
    {
     "name": "stdout",
     "output_type": "stream",
     "text": [
      "                     precision    recall  f1-score   support\n",
      "\n",
      "не являются клонами       0.70      0.98      0.82     12544\n",
      "   являются клонами       0.96      0.58      0.73     12404\n",
      "\n",
      "           accuracy                           0.78     24948\n",
      "          macro avg       0.83      0.78      0.77     24948\n",
      "       weighted avg       0.83      0.78      0.77     24948\n",
      "\n"
     ]
    }
   ],
   "source": [
    "print(classification_report(y_test, y_pred, target_names=[\"не являются клонами\", \"являются клонами\"]))"
   ]
  }
 ],
 "metadata": {
  "kernelspec": {
   "display_name": "Python 3",
   "language": "python",
   "name": "python3"
  },
  "language_info": {
   "codemirror_mode": {
    "name": "ipython",
    "version": 3
   },
   "file_extension": ".py",
   "mimetype": "text/x-python",
   "name": "python",
   "nbconvert_exporter": "python",
   "pygments_lexer": "ipython3",
   "version": "3.10.0"
  }
 },
 "nbformat": 4,
 "nbformat_minor": 2
}
